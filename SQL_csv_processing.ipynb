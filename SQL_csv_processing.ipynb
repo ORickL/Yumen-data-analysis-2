{
 "cells": [
  {
   "cell_type": "markdown",
   "metadata": {},
   "source": [
    "# This notebook contains code to properly read and process the .csv files from running SQL queries."
   ]
  },
  {
   "cell_type": "markdown",
   "metadata": {},
   "source": [
    "## Imports"
   ]
  },
  {
   "cell_type": "code",
   "execution_count": 2,
   "metadata": {},
   "outputs": [],
   "source": [
    "import pandas as pd"
   ]
  },
  {
   "cell_type": "markdown",
   "metadata": {},
   "source": [
    "## Reading the file using pandas"
   ]
  },
  {
   "cell_type": "code",
   "execution_count": 14,
   "metadata": {},
   "outputs": [
    {
     "name": "stderr",
     "output_type": "stream",
     "text": [
      "/tmp/ipykernel_783/1095581033.py:11: SettingWithCopyWarning: \n",
      "A value is trying to be set on a copy of a slice from a DataFrame\n",
      "\n",
      "See the caveats in the documentation: https://pandas.pydata.org/pandas-docs/stable/user_guide/indexing.html#returning-a-view-versus-a-copy\n",
      "  subset.sort_values(by='Timepoint', inplace=True)\n"
     ]
    }
   ],
   "source": [
    "df = pd.read_csv('03-17.csv')\n",
    "df['Timepoint'] = pd.to_datetime(df['Timepoint'])\n",
    "\n",
    "# Selecting the range of time i want the data in between\n",
    "start_time = pd.to_datetime('2023-03-15T00:00:00.0000000Z')\n",
    "end_time = pd.to_datetime('2023-03-17T12:00:00.0000000Z')\n",
    "\n",
    "# Making mask to only show data from a single day\n",
    "mask = (df['Timepoint'] >= start_time) & (df['Timepoint'] <= end_time)\n",
    "subset = df.loc[mask]\n",
    "subset.sort_values(by='Timepoint', inplace=True)"
   ]
  }
 ],
 "metadata": {
  "interpreter": {
   "hash": "e7370f93d1d0cde622a1f8e1c04877d8463912d04d973331ad4851f04de6915a"
  },
  "kernelspec": {
   "display_name": "Python 3.9.9 64-bit",
   "language": "python",
   "name": "python3"
  },
  "language_info": {
   "codemirror_mode": {
    "name": "ipython",
    "version": 3
   },
   "file_extension": ".py",
   "mimetype": "text/x-python",
   "name": "python",
   "nbconvert_exporter": "python",
   "pygments_lexer": "ipython3",
   "version": "3.9.9"
  },
  "orig_nbformat": 4
 },
 "nbformat": 4,
 "nbformat_minor": 2
}
