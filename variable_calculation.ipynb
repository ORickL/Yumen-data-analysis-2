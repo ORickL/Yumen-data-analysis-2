{
 "cells": [
  {
   "cell_type": "code",
   "execution_count": 1,
   "metadata": {},
   "outputs": [],
   "source": [
    "import pandas as pd\n",
    "import numpy as np\n",
    "import matplotlib.pyplot as plt\n",
    "import seaborn as sns"
   ]
  },
  {
   "cell_type": "markdown",
   "metadata": {},
   "source": [
    "## making random datapoints for example"
   ]
  },
  {
   "cell_type": "code",
   "execution_count": 2,
   "metadata": {},
   "outputs": [],
   "source": [
    "pos_data_left = np.random.rand(10000, 3)\n",
    "pos_df_left = pd.DataFrame(pos_data_left)\n",
    "pos_df_left['time'] = np.arange(0, len(pos_df_left), 1)\n",
    "pos_df_left.columns = ['x', 'y', 'z', 'second']\n",
    "\n",
    "pos_data_right = np.random.rand(10000, 3)\n",
    "pos_df_right = pd.DataFrame(pos_data_right)\n",
    "pos_df_right['time'] = np.arange(0, len(pos_df_right), 1)\n",
    "pos_df_right.columns = ['x', 'y', 'z', 'second']"
   ]
  },
  {
   "cell_type": "markdown",
   "metadata": {},
   "source": [
    "## calculating accelation values from positional data"
   ]
  },
  {
   "cell_type": "code",
   "execution_count": 3,
   "metadata": {},
   "outputs": [],
   "source": [
    "def add_acceleration(df, dt, x, y, z):\n",
    "    # get velocity by difference divided by dt\n",
    "    accel_df = pd.DataFrame()\n",
    "    velocity_x = np.insert(np.diff(df[x]) / dt, 0, 0)\n",
    "    velocity_y = np.insert(np.diff(df[y]) / dt, 0, 0) \n",
    "    velocity_z = np.insert(np.diff(df[z]) / dt, 0, 0)\n",
    "    # same method for acceleration and add to df\n",
    "    accel_df['accel_x'] = np.insert(np.diff(velocity_x) / dt, 0, 0)\n",
    "    accel_df['accel_y'] = np.insert(np.diff(velocity_y) / dt, 0, 0)\n",
    "    accel_df['accel_z'] = np.insert(np.diff(velocity_z) / dt, 0, 0)\n",
    "\n",
    "    return accel_df\n",
    "\n",
    "left_hand = add_acceleration(df=pos_df_left, dt=1, x='x', y='y', z='z')\n",
    "right_hand = add_acceleration(df=pos_df_right, dt=1, x='x', y='y', z='z')"
   ]
  },
  {
   "cell_type": "markdown",
   "metadata": {},
   "source": [
    "## calculating a variables used for movement quantification"
   ]
  },
  {
   "cell_type": "code",
   "execution_count": 13,
   "metadata": {},
   "outputs": [
    {
     "name": "stderr",
     "output_type": "stream",
     "text": [
      "/var/data/python/lib/python3.9/site-packages/pandas/core/arraylike.py:397: RuntimeWarning: divide by zero encountered in log\n",
      "  result = getattr(ufunc, method)(*inputs, **kwargs)\n"
     ]
    }
   ],
   "source": [
    "def calculate_vector_magnitude(x, y, z):\n",
    "    return np.sqrt(x**2 + y**2, z**2)\n",
    "\n",
    "def calculate_hours_of_use(vector_magnitude, threshold=0.1, dt=1):\n",
    "    '''\n",
    "    Function to sum up all the instances where the magnitude vector is greater than a set threshold to detect activity.\n",
    "    magnitude vector is an 1D-array like object containing the magnitudes per time step\n",
    "    threshold is a float which must be exceeded for a signal to be counted as active\n",
    "    dt is the time difference between variables.\n",
    "    '''\n",
    "    above_threshold = (vector_magnitude > threshold).sum()\n",
    "    return above_threshold / (3600 * dt)\n",
    "\n",
    "def calculate_use_ratio(left_hours_use, right_hours_use):\n",
    "    '''\n",
    "    Function to calculate a fraction between left and right hand\n",
    "    close to 1 means equal use of both hands\n",
    "    close to 0 means higher usage of right hand\n",
    "    higher than 0 means higher usage of left hand\n",
    "    '''\n",
    "    return left_hours_use / right_hours_use\n",
    "\n",
    "def calculate_magnitude_ratio(vector_magnitude_left, vector_magnitude_right):\n",
    "    '''\n",
    "    function which calculates in each time step which hand contributed more to the movement intensity.\n",
    "    values close to 0 indiate equal usage\n",
    "    values close to -7 indicate more usage of right arm\n",
    "    values close to 7 indicate more usage of left arm\n",
    "    '''\n",
    "    ln_left = np.log(vector_magnitude_left)\n",
    "    ln_right = np.log(vector_magnitude_right)\n",
    "    magnitude_ratio = ln_left / ln_right\n",
    "    \n",
    "    return np.clip(magnitude_ratio, a_min=-7, a_max=7)\n",
    "\n",
    "def calculate_bilateral_magnitude(vector_magnitude_left, vector_magnitude_right):\n",
    "    return np.sum((vector_magnitude_left, vector_magnitude_right), axis=0)\n",
    "\n",
    "\n",
    "mag_left = calculate_vector_magnitude(left_hand['accel_x'], left_hand['accel_y'], left_hand['accel_z'])\n",
    "mag_right = calculate_vector_magnitude(right_hand['accel_x'], right_hand['accel_y'], right_hand['accel_z'])\n",
    "\n",
    "left_hours_use = calculate_hours_of_use(vector_magnitude=mag_left, threshold=0.3, dt=1)\n",
    "right_hours_use = calculate_hours_of_use(mag_right, threshold=0.3, dt=1)\n",
    "\n",
    "use_ratio = calculate_use_ratio(left_hours_use=left_hours_use, right_hours_use=right_hours_use)\n",
    "\n",
    "magnitude_ratio = calculate_magnitude_ratio(vector_magnitude_left=mag_left, vector_magnitude_right=mag_right)\n",
    "\n",
    "bilateral_magnitude = calculate_bilateral_magnitude(mag_left, mag_right)"
   ]
  },
  {
   "cell_type": "markdown",
   "metadata": {},
   "source": [
    "## Calculating elbow angle from the coordinates"
   ]
  },
  {
   "cell_type": "code",
   "execution_count": 38,
   "metadata": {},
   "outputs": [
    {
     "name": "stdout",
     "output_type": "stream",
     "text": [
      "Elbow angle: 90.00 degrees\n"
     ]
    }
   ],
   "source": [
    "import math\n",
    "\n",
    "def calculate_elbow_angle(shoulder, elbow, wrist, upper_arm_length, forearm_length):\n",
    "    # Calculate vectors representing upper arm and forearm\n",
    "    upper_arm_vector = [elbow[0] - shoulder[0], elbow[1] - shoulder[1], elbow[2] - shoulder[2]]\n",
    "    forearm_vector = [wrist[0] - elbow[0], wrist[1] - elbow[1], wrist[2] - elbow[2]]\n",
    "\n",
    "    # Calculate dot product of upper arm and forearm vectors\n",
    "    dot_product = upper_arm_vector[0]*forearm_vector[0] + upper_arm_vector[1]*forearm_vector[1] + upper_arm_vector[2]*forearm_vector[2]\n",
    "\n",
    "    # Calculate angle between upper arm and forearm vectors using law of cosines\n",
    "    angle = math.acos(dot_product / (upper_arm_length * forearm_length))\n",
    "\n",
    "    # Convert angle from radians to degrees\n",
    "    angle_degrees = math.degrees(angle)\n",
    "\n",
    "    # Return 180 - angle_degrees because this defines elbow angle\n",
    "    return 180 - angle_degrees\n",
    "\n",
    "shoulder_coords = [0, 0, 0]\n",
    "elbow_coords = [0, 10, 0]\n",
    "wrist_coords = [10, 10, 0]\n",
    "upper_arm_length = 28\n",
    "forearm_length = 24\n",
    "\n",
    "elbow_angle = calculate_elbow_angle(shoulder_coords, elbow_coords, wrist_coords, upper_arm_length, forearm_length)\n",
    "print(\"Elbow angle: {:.2f} degrees\".format(elbow_angle))"
   ]
  },
  {
   "cell_type": "markdown",
   "metadata": {},
   "source": [
    "## making density plots"
   ]
  },
  {
   "cell_type": "code",
   "execution_count": 30,
   "metadata": {},
   "outputs": [
    {
     "data": {
      "text/plain": [
       "Text(22.569444444444443, 0.5, 'Biilateral magnitude')"
      ]
     },
     "execution_count": 30,
     "metadata": {},
     "output_type": "execute_result"
    },
    {
     "data": {
      "image/png": "[encoded data removed]",
      "text/plain": [
       "<Figure size 500x500 with 2 Axes>"
      ]
     },
     "metadata": {},
     "output_type": "display_data"
    }
   ],
   "source": [
    "sns.displot(x=magnitude_ratio, y=bilateral_magnitude, binwidth=(.1, .1), cbar=True, cmap='plasma')\n",
    "plt.xlabel('Magnitude Ratio')\n",
    "plt.ylabel('Biilateral magnitude')"
   ]
  },
  {
   "cell_type": "markdown",
   "metadata": {},
   "source": [
    "## test to upsample to positional data to a higher Hz -> and can then use that to differentiate and get velocity and accelation data for analysis."
   ]
  },
  {
   "cell_type": "code",
   "execution_count": 10,
   "metadata": {},
   "outputs": [],
   "source": [
    "### Reading data like we would get from an SQL query...\n",
    "df = pd.read_csv('position_data.csv')\n",
    "df['Timepoint'] = pd.to_datetime(df['Timepoint'], format=\"%Y-%m-%dT%H:%M:%S.%fZ\")\n",
    "df.sort_values(by='Timepoint', inplace=True)\n",
    "\n",
    "### Making mask to only show data from a single day and dropping any NaN vales...\n",
    "mask = df['Timepoint'].dt.date == pd.to_datetime('2023-03-16', format=\"%Y-%m-%d\").date()\n",
    "df = df.loc[mask].reset_index()\n",
    "df.dropna(how='any', inplace=True)\n",
    "# can also interpolate the missing values, but this makes assumptions and can be wildly inaccurate\n",
    "# df['l_wrist_x'].interpolate()\n",
    "\n",
    "### Upsampling and filtering the data\n",
    "from scipy.signal import resample, filtfilt, butter\n",
    "def upsample_filter(x, fs=50, cutoff=0.35, order=4):\n",
    "    nyquist = 0.5*fs\n",
    "    resampled_data = resample(x, num=len(x) * fs)\n",
    "    b, a = butter(order, cutoff/nyquist, btype='low')\n",
    "    return filtfilt(b, a, resampled_data)\n",
    "\n",
    "upsampled_df = pd.DataFrame()\n",
    "upsampled_df['l_wrist_x'] = upsample_filter(df['l_wrist_x'])\n",
    "upsampled_df['l_wrist_y'] = upsample_filter(df['l_wrist_y'])\n",
    "upsampled_df['l_wrist_z'] = upsample_filter(df['l_wrist_z'])\n",
    "upsampled_df['r_wrist_x'] = upsample_filter(df['r_wrist_x'])\n",
    "upsampled_df['r_wrist_y'] = upsample_filter(df['r_wrist_y'])\n",
    "upsampled_df['r_wrist_z'] = upsample_filter(df['r_wrist_z'])"
   ]
  },
  {
   "cell_type": "code",
   "execution_count": 11,
   "metadata": {},
   "outputs": [
    {
     "data": {
      "text/plain": [
       "UserID                               G0004\n",
       "Timepoint       2023-03-17 11:23:32.425000\n",
       "l_shoulder_x                           0.0\n",
       "l_shoulder_y                           0.0\n",
       "l_shoulder_z                           0.0\n",
       "l_elbow_x                           -11.01\n",
       "l_elbow_y                            -3.42\n",
       "l_elbow_z                            29.85\n",
       "l_wrist_x                           -11.41\n",
       "l_wrist_y                            -4.92\n",
       "l_wrist_z                             52.8\n",
       "r_shoulder_x                           0.0\n",
       "r_shoulder_y                           0.0\n",
       "r_shoulder_z                           0.0\n",
       "r_elbow_x                            -2.47\n",
       "r_elbow_y                            13.04\n",
       "r_elbow_z                            29.12\n",
       "r_wrist_x                            -5.31\n",
       "r_wrist_y                             24.2\n",
       "r_wrist_z                            49.03\n",
       "Name: 0, dtype: object"
      ]
     },
     "execution_count": 11,
     "metadata": {},
     "output_type": "execute_result"
    }
   ],
   "source": [
    "### Reading data like we would get from an SQL query...\n",
    "df = pd.read_csv('03-17.csv')\n",
    "df['Timepoint'] = pd.to_datetime(df['Timepoint'], format=\"%Y-%m-%dT%H:%M:%S.%fZ\")\n",
    "df.sort_values(by='Timepoint', inplace=True)\n",
    "\n",
    "### Making mask to only show data from a single day and dropping any NaN vales...\n",
    "mask = df['Timepoint'].dt.date == pd.to_datetime('2023-03-17', format=\"%Y-%m-%d\").date()\n",
    "df = df.loc[mask].reset_index(drop=True)\n",
    "df.dropna(how='any', inplace=True)\n",
    "\n",
    "df.loc[0]"
   ]
  }
 ],
 "metadata": {
  "interpreter": {
   "hash": "e7370f93d1d0cde622a1f8e1c04877d8463912d04d973331ad4851f04de6915a"
  },
  "kernelspec": {
   "display_name": "Python 3.9.9 64-bit",
   "language": "python",
   "name": "python3"
  },
  "language_info": {
   "codemirror_mode": {
    "name": "ipython",
    "version": 3
   },
   "file_extension": ".py",
   "mimetype": "text/x-python",
   "name": "python",
   "nbconvert_exporter": "python",
   "pygments_lexer": "ipython3",
   "version": "3.9.9"
  },
  "orig_nbformat": 4
 },
 "nbformat": 4,
 "nbformat_minor": 2
}
