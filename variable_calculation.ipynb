{
 "cells": [
  {
   "cell_type": "code",
   "execution_count": 2,
   "metadata": {},
   "outputs": [],
   "source": [
    "import pandas as pd\n",
    "import numpy as np\n",
    "import matplotlib.pyplot as plt\n",
    "import seaborn as sns"
   ]
  },
  {
   "cell_type": "markdown",
   "metadata": {},
   "source": [
    "## making random datapoints for example"
   ]
  },
  {
   "cell_type": "code",
   "execution_count": 3,
   "metadata": {},
   "outputs": [],
   "source": [
    "pos_data_left = np.random.rand(10000, 3)\n",
    "pos_df_left = pd.DataFrame(pos_data_left)\n",
    "pos_df_left['time'] = np.arange(0, len(pos_df_left), 1)\n",
    "pos_df_left.columns = ['x', 'y', 'z', 'second']\n",
    "\n",
    "pos_data_right = np.random.rand(10000, 3)\n",
    "pos_df_right = pd.DataFrame(pos_data_right)\n",
    "pos_df_right['time'] = np.arange(0, len(pos_df_right), 1)\n",
    "pos_df_right.columns = ['x', 'y', 'z', 'second']"
   ]
  },
  {
   "cell_type": "markdown",
   "metadata": {},
   "source": [
    "## calculating accelation values from positional data"
   ]
  },
  {
   "cell_type": "code",
   "execution_count": 110,
   "metadata": {},
   "outputs": [],
   "source": [
    "def add_acceleration(df, dt, x, y, z):\n",
    "    # get velocity by difference divided by dt\n",
    "    accel_df = pd.DataFrame()\n",
    "    velocity_x = np.insert(np.diff(df[x]) / dt, 0, 0)\n",
    "    velocity_y = np.insert(np.diff(df[y]) / dt, 0, 0) \n",
    "    velocity_z = np.insert(np.diff(df[z]) / dt, 0, 0)\n",
    "    # same method for acceleration and add to df\n",
    "    accel_df['accel_x'] = np.insert(np.diff(velocity_x) / dt, 0, 0)\n",
    "    accel_df['accel_y'] = np.insert(np.diff(velocity_y) / dt, 0, 0)\n",
    "    accel_df['accel_z'] = np.insert(np.diff(velocity_z) / dt, 0, 0)\n",
    "\n",
    "    return accel_df\n",
    "\n",
    "left_hand = add_acceleration(df=pos_df_left, dt=1, x='x', y='y', z='z')\n",
    "right_hand = add_acceleration(df=pos_df_right, dt=1, x='x', y='y', z='z')"
   ]
  },
  {
   "cell_type": "markdown",
   "metadata": {},
   "source": [
    "## calculating a variables used for movement quantification"
   ]
  },
  {
   "cell_type": "code",
   "execution_count": 111,
   "metadata": {},
   "outputs": [
    {
     "name": "stderr",
     "output_type": "stream",
     "text": [
      "/var/data/python/lib/python3.9/site-packages/pandas/core/arraylike.py:397: RuntimeWarning: divide by zero encountered in log\n",
      "  result = getattr(ufunc, method)(*inputs, **kwargs)\n"
     ]
    }
   ],
   "source": [
    "def calculate_vector_magnitude(x, y, z):\n",
    "    return np.sqrt(x**2 + y**2, z**2)\n",
    "\n",
    "def calculate_hours_of_use(vector_magnitude, threshold=0.1, dt=1):\n",
    "    '''\n",
    "    Function to sum up all the instances where the magnitude vector is greater than a set threshold to detect activity.\n",
    "    magnitude vector is an 1D-array like object containing the magnitudes per time step\n",
    "    threshold is a float which must be exceeded for a signal to be counted as active\n",
    "    dt is the time difference between variables.\n",
    "    '''\n",
    "    above_threshold = (vector_magnitude > threshold).sum()\n",
    "    return above_threshold / (3600 * dt)\n",
    "\n",
    "def calculate_use_ratio(left_hours_use, right_hours_use):\n",
    "    '''\n",
    "    Function to calculate a fraction between left and right hand\n",
    "    close to 1 means equal use of both hands\n",
    "    close to 0 means higher usage of right hand\n",
    "    higher than 0 means higher usage of left hand\n",
    "    '''\n",
    "    return left_hours_use / right_hours_use\n",
    "\n",
    "def calculate_magnitude_ratio(vector_magnitude_left, vector_magnitude_right):\n",
    "    '''\n",
    "    function which calculates in each time step which hand contributed more to the movement intensity.\n",
    "    values close to 0 indiate equal usage\n",
    "    values close to -7 indicate more usage of right arm\n",
    "    values close to 7 indicate more usage of left arm\n",
    "    '''\n",
    "    ln_left = np.log(vector_magnitude_left)\n",
    "    ln_right = np.log(vector_magnitude_right)\n",
    "    magnitude_ratio = ln_left / ln_right\n",
    "    \n",
    "    return np.clip(magnitude_ratio, a_min=-7, a_max=7)\n",
    "\n",
    "def calculate_bilateral_magnitude(vector_magnitude_left, vector_magnitude_right):\n",
    "    return np.sum((vector_magnitude_left, vector_magnitude_right), axis=0)\n",
    "\n",
    "\n",
    "mag_left = calculate_vector_magnitude(pos_df_left['accel_x'], pos_df_left['accel_y'], pos_df_left['accel_z'])\n",
    "mag_right = calculate_vector_magnitude(pos_df_right['accel_x'], pos_df_right['accel_y'], pos_df_right['accel_z'])\n",
    "\n",
    "left_hours_use = calculate_hours_of_use(vector_magnitude=mag_left, threshold=0.3, dt=1)\n",
    "right_hours_use = calculate_hours_of_use(mag_right, threshold=0.3, dt=1)\n",
    "\n",
    "use_ratio = calculate_use_ratio(left_hours_use=left_hours_use, right_hours_use=right_hours_use)\n",
    "\n",
    "magnitude_ratio = calculate_magnitude_ratio(vector_magnitude_left=mag_left, vector_magnitude_right=mag_right)\n",
    "\n",
    "bilateral_magnitude = calculate_bilateral_magnitude(mag_left, mag_right)"
   ]
  },
  {
   "cell_type": "markdown",
   "metadata": {},
   "source": [
    "## making density plots"
   ]
  },
  {
   "cell_type": "code",
   "execution_count": 112,
   "metadata": {},
   "outputs": [
    {
     "data": {
      "text/plain": [
       "<seaborn.axisgrid.FacetGrid at 0x7f75b85908e0>"
      ]
     },
     "execution_count": 112,
     "metadata": {},
     "output_type": "execute_result"
    },
    {
     "data": {
      "image/png": "[encoded data removed]",
      "text/plain": [
       "<Figure size 500x500 with 2 Axes>"
      ]
     },
     "metadata": {},
     "output_type": "display_data"
    }
   ],
   "source": [
    "sns.displot(x=magnitude_ratio, y=bilateral_magnitude, binwidth=(.1, .1), cbar=True, cmap='plasma')\n"
   ]
  },
  {
   "cell_type": "code",
   "execution_count": 22,
   "metadata": {},
   "outputs": [
    {
     "name": "stdout",
     "output_type": "stream",
     "text": [
      "0.017555555555555557\n"
     ]
    }
   ],
   "source": [
    "leg_df = pd.read_csv('leg_df.csv')\n",
    "\n",
    "mag_left = calculate_vector_magnitude(leg_df['accel_x'], leg_df['accel_y'], leg_df['accel_z'])\n",
    "mag_right = calculate_vector_magnitude(leg_df['accel_x'], leg_df['accel_y'], leg_df['accel_z'])\n",
    "\n",
    "left_hours_use = calculate_hours_of_use(vector_magnitude=mag_left, threshold=0.3, dt=1/20)\n",
    "right_hours_use = calculate_hours_of_use(mag_right, threshold=0.3, dt=1/20)\n",
    "\n",
    "use_ratio = calculate_use_ratio(left_hours_use=left_hours_use, right_hours_use=right_hours_use)\n",
    "\n",
    "magnitude_ratio = calculate_magnitude_ratio(vector_magnitude_left=mag_left, vector_magnitude_right=mag_right)\n",
    "\n",
    "bilateral_magnitude = calculate_bilateral_magnitude(mag_left, mag_right)\n",
    "\n",
    "#sns.displot(x=magnitude_ratio, y=bilateral_magnitude, binwidth=(0.1, 0.1), cbar=True, cmap='plasma')\n",
    "print(left_hours_use)"
   ]
  },
  {
   "cell_type": "markdown",
   "metadata": {},
   "source": [
    "## test to upsample to positional data to a higher Hz -> and can then use that to differentiate and get velocity and accelation data for analysis."
   ]
  },
  {
   "cell_type": "code",
   "execution_count": 143,
   "metadata": {},
   "outputs": [
    {
     "name": "stderr",
     "output_type": "stream",
     "text": [
      "/var/data/python/lib/python3.9/site-packages/pandas/core/arraylike.py:397: RuntimeWarning: divide by zero encountered in log\n",
      "  result = getattr(ufunc, method)(*inputs, **kwargs)\n"
     ]
    }
   ],
   "source": [
    "### Reading data like we would get from an SQL query...\n",
    "df = pd.read_csv('position_data.csv')\n",
    "df['Timepoint'] = pd.to_datetime(df['Timepoint'], format=\"%Y-%m-%dT%H:%M:%S.%fZ\")\n",
    "df.sort_values(by='Timepoint', inplace=True)\n",
    "\n",
    "### Making mask to only show data from a single day and dropping any NaN vales...\n",
    "mask = df['Timepoint'].dt.date == pd.to_datetime('2023-03-16', format=\"%Y-%m-%d\").date()\n",
    "df = df.loc[mask].reset_index()\n",
    "df.dropna(how='any', inplace=True)\n",
    "# can also interpolate the missing values, but this makes assumptions and can be wildly inaccurate\n",
    "# df['l_wrist_x'].interpolate()\n",
    "\n",
    "### Upsampling and filtering the data\n",
    "from scipy.signal import resample, filtfilt, butter\n",
    "def upsample_filter(x, fs=50, cutoff=0.35, order=4):\n",
    "    nyquist = 0.5*fs\n",
    "    resampled_data = resample(x, num=len(x) * fs)\n",
    "    b, a = butter(order, cutoff/nyquist, btype='low')\n",
    "    return filtfilt(b, a, resampled_data)\n",
    "\n",
    "upsampled_df = pd.DataFrame()\n",
    "upsampled_df['l_wrist_x'] = upsample_filter(df['l_wrist_x'])\n",
    "upsampled_df['l_wrist_y'] = upsample_filter(df['l_wrist_y'])\n",
    "upsampled_df['l_wrist_z'] = upsample_filter(df['l_wrist_z'])\n",
    "upsampled_df['r_wrist_x'] = upsample_filter(df['r_wrist_x'])\n",
    "upsampled_df['r_wrist_y'] = upsample_filter(df['r_wrist_y'])\n",
    "upsampled_df['r_wrist_z'] = upsample_filter(df['r_wrist_z'])"
   ]
  },
  {
   "cell_type": "code",
   "execution_count": 170,
   "metadata": {},
   "outputs": [
    {
     "name": "stdout",
     "output_type": "stream",
     "text": [
      "<class 'pandas.core.frame.DataFrame'>\n",
      "Int64Index: 2160 entries, 0 to 2174\n",
      "Data columns (total 20 columns):\n",
      " #   Column        Non-Null Count  Dtype         \n",
      "---  ------        --------------  -----         \n",
      " 0   UserID        2160 non-null   object        \n",
      " 1   Timepoint     2160 non-null   datetime64[ns]\n",
      " 2   l_shoulder_x  2160 non-null   float64       \n",
      " 3   l_shoulder_y  2160 non-null   float64       \n",
      " 4   l_shoulder_z  2160 non-null   float64       \n",
      " 5   l_elbow_x     2160 non-null   float64       \n",
      " 6   l_elbow_y     2160 non-null   float64       \n",
      " 7   l_elbow_z     2160 non-null   float64       \n",
      " 8   l_wrist_x     2160 non-null   float64       \n",
      " 9   l_wrist_y     2160 non-null   float64       \n",
      " 10  l_wrist_z     2160 non-null   float64       \n",
      " 11  r_shoulder_x  2160 non-null   float64       \n",
      " 12  r_shoulder_y  2160 non-null   float64       \n",
      " 13  r_shoulder_z  2160 non-null   float64       \n",
      " 14  r_elbow_x     2160 non-null   float64       \n",
      " 15  r_elbow_y     2160 non-null   float64       \n",
      " 16  r_elbow_z     2160 non-null   float64       \n",
      " 17  r_wrist_x     2160 non-null   float64       \n",
      " 18  r_wrist_y     2160 non-null   float64       \n",
      " 19  r_wrist_z     2160 non-null   float64       \n",
      "dtypes: datetime64[ns](1), float64(18), object(1)\n",
      "memory usage: 354.4+ KB\n"
     ]
    }
   ],
   "source": [
    "### Reading data like we would get from an SQL query...\n",
    "df = pd.read_csv('03-17.csv')\n",
    "df['Timepoint'] = pd.to_datetime(df['Timepoint'], format=\"%Y-%m-%dT%H:%M:%S.%fZ\")\n",
    "df.sort_values(by='Timepoint', inplace=True)\n",
    "\n",
    "### Making mask to only show data from a single day and dropping any NaN vales...\n",
    "mask = df['Timepoint'].dt.date == pd.to_datetime('2023-03-17', format=\"%Y-%m-%d\").date()\n",
    "df = df.loc[mask].reset_index(drop=True)\n",
    "df.dropna(how='any', inplace=True)\n",
    "\n",
    "df.info()"
   ]
  }
 ],
 "metadata": {
  "interpreter": {
   "hash": "e7370f93d1d0cde622a1f8e1c04877d8463912d04d973331ad4851f04de6915a"
  },
  "kernelspec": {
   "display_name": "Python 3.9.9 64-bit",
   "language": "python",
   "name": "python3"
  },
  "language_info": {
   "codemirror_mode": {
    "name": "ipython",
    "version": 3
   },
   "file_extension": ".py",
   "mimetype": "text/x-python",
   "name": "python",
   "nbconvert_exporter": "python",
   "pygments_lexer": "ipython3",
   "version": "3.9.9"
  },
  "orig_nbformat": 4
 },
 "nbformat": 4,
 "nbformat_minor": 2
}
